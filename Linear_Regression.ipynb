{
  "nbformat": 4,
  "nbformat_minor": 0,
  "metadata": {
    "colab": {
      "name": "Linear_Regression.ipynb",
      "provenance": [],
      "collapsed_sections": []
    },
    "kernelspec": {
      "name": "python3",
      "display_name": "Python 3"
    },
    "language_info": {
      "name": "python"
    }
  },
  "cells": [
    {
      "cell_type": "markdown",
      "metadata": {
        "id": "1Y-jPR81uITf"
      },
      "source": [
        "## Data"
      ]
    },
    {
      "cell_type": "code",
      "metadata": {
        "id": "bzKUgLo8uJKo"
      },
      "source": [
        "X = [0, 1, 2, 3, 4, 5, 6, 7, 8, 9]\n",
        "Y = [1, 1, 2, 4, 5, 7, 8, 9, 9, 10]"
      ],
      "execution_count": null,
      "outputs": []
    },
    {
      "cell_type": "code",
      "metadata": {
        "colab": {
          "base_uri": "https://localhost:8080/",
          "height": 265
        },
        "id": "fYSMVqKruKnt",
        "outputId": "6b18f3fc-a362-4fc4-f4e5-c7716e10206e"
      },
      "source": [
        "import matplotlib.pyplot as plt\n",
        "plt.scatter(X, Y)\n",
        "plt.show()"
      ],
      "execution_count": null,
      "outputs": [
        {
          "output_type": "display_data",
          "data": {
            "image/png": "[encoded data removed]",
            "text/plain": [
              "<Figure size 432x288 with 1 Axes>"
            ]
          },
          "metadata": {
            "needs_background": "light"
          }
        }
      ]
    },
    {
      "cell_type": "markdown",
      "metadata": {
        "id": "3L1gVWJotkNj"
      },
      "source": [
        "## Hypothesis (Model)"
      ]
    },
    {
      "cell_type": "markdown",
      "metadata": {
        "id": "Kk3kc5WBtLbJ"
      },
      "source": [
        "$H(x) = Wx + b$"
      ]
    },
    {
      "cell_type": "code",
      "metadata": {
        "colab": {
          "base_uri": "https://localhost:8080/"
        },
        "id": "3UK7rCFps4IH",
        "outputId": "e95d2bbe-7d9a-4091-9609-65d682667bc5"
      },
      "source": [
        "\n",
        "class H():\n",
        "\n",
        "    def __init__(self,w,b):\n",
        "        self.w = w\n",
        "        self.b = b\n",
        "    \n",
        "    def forward(self, x):\n",
        "        return self.w * x + self.b\n",
        "\n",
        "\n",
        "h = H(4,1) # H(x) = 4x + 1\n",
        "h.forward(3)\n"
      ],
      "execution_count": null,
      "outputs": [
        {
          "output_type": "execute_result",
          "data": {
            "text/plain": [
              "13"
            ]
          },
          "metadata": {},
          "execution_count": 8
        }
      ]
    },
    {
      "cell_type": "markdown",
      "metadata": {
        "id": "IGBxgCQotmRA"
      },
      "source": [
        "## Cost Function"
      ]
    },
    {
      "cell_type": "code",
      "metadata": {
        "colab": {
          "base_uri": "https://localhost:8080/"
        },
        "id": "qq6DOleHFmhj",
        "outputId": "1181bf7e-0ea1-413f-e178-0d0529f87d20"
      },
      "source": [
        "for i in range(len(X)):\n",
        "    print(i)"
      ],
      "execution_count": null,
      "outputs": [
        {
          "output_type": "stream",
          "name": "stdout",
          "text": [
            "0\n",
            "1\n",
            "2\n",
            "3\n",
            "4\n",
            "5\n",
            "6\n",
            "7\n",
            "8\n",
            "9\n"
          ]
        }
      ]
    },
    {
      "cell_type": "code",
      "metadata": {
        "colab": {
          "base_uri": "https://localhost:8080/"
        },
        "id": "Bvoh79tTttck",
        "outputId": "89412583-18a1-47a6-da46-870795a709a5"
      },
      "source": [
        "def cost(pred_y, true_y):\n",
        "\n",
        "    error = 0 # init\n",
        "    for i in range(len(X)):\n",
        "        error += (pred_y[i] - true_y[i]) ** 2\n",
        "    error /= len(X)\n",
        "\n",
        "    return error\n"
      ],
      "execution_count": null,
      "outputs": [
        {
          "output_type": "stream",
          "name": "stdout",
          "text": [
            "Loss:  248.0\n"
          ]
        }
      ]
    },
    {
      "cell_type": "code",
      "metadata": {
        "colab": {
          "base_uri": "https://localhost:8080/"
        },
        "id": "HE93orj-HCmy",
        "outputId": "d8801e1d-1548-413a-af4b-ee8a422afaa4"
      },
      "source": [
        "X[2]"
      ],
      "execution_count": null,
      "outputs": [
        {
          "output_type": "execute_result",
          "data": {
            "text/plain": [
              "2"
            ]
          },
          "metadata": {},
          "execution_count": 15
        }
      ]
    },
    {
      "cell_type": "code",
      "metadata": {
        "id": "7wDd0vGgGPMi"
      },
      "source": [
        "\n",
        "prediction = [h.forward(X[i]) for i in range(len(X))]\n"
      ],
      "execution_count": null,
      "outputs": []
    },
    {
      "cell_type": "code",
      "metadata": {
        "colab": {
          "base_uri": "https://localhost:8080/"
        },
        "id": "bQikRqvCHZ24",
        "outputId": "2f25b198-6966-4b6c-d236-b7f4d3ff0592"
      },
      "source": [
        "cost(pred_y=prediction, true_y = Y)"
      ],
      "execution_count": null,
      "outputs": [
        {
          "output_type": "execute_result",
          "data": {
            "text/plain": [
              "248.0"
            ]
          },
          "metadata": {},
          "execution_count": 20
        }
      ]
    },
    {
      "cell_type": "markdown",
      "metadata": {
        "id": "hacyEGQzuhO5"
      },
      "source": [
        "### 다양한 W를 넣으면서 Cost 변화 알아보기"
      ]
    },
    {
      "cell_type": "code",
      "metadata": {
        "colab": {
          "base_uri": "https://localhost:8080/",
          "height": 351
        },
        "id": "8Q7zuta8ulj2",
        "outputId": "db708cc7-860e-4594-c051-fa2a85c11b90"
      },
      "source": [
        "list_w = []\n",
        "list_c = []\n",
        "for i in range(-20, 20): # w를 다양하게 넣기 위해\n",
        "    w = i * 0.5\n",
        "    b = 1\n",
        "\n",
        "    h = H(w,b)\n",
        "    pred_y = [h.forward(X[i]) for i in range(len(X))]\n",
        "\n",
        "    c = cost(pred_y, Y)\n",
        "\n",
        "    list_w.append(w)\n",
        "    list_c.append(c)\n",
        "    \n",
        "plt.figure(figsize=(10,5))\n",
        "plt.xlabel('w')\n",
        "plt.ylabel('cost')\n",
        "plt.scatter(list_w, list_c, s=3)"
      ],
      "execution_count": null,
      "outputs": [
        {
          "output_type": "execute_result",
          "data": {
            "text/plain": [
              "<matplotlib.collections.PathCollection at 0x7fcb665920d0>"
            ]
          },
          "metadata": {},
          "execution_count": 23
        },
        {
          "output_type": "display_data",
          "data": {
            "image/png": "[encoded data removed]",
            "text/plain": [
              "<Figure size 720x360 with 1 Axes>"
            ]
          },
          "metadata": {
            "needs_background": "light"
          }
        }
      ]
    },
    {
      "cell_type": "markdown",
      "metadata": {
        "id": "GFCT3mUTv3Co"
      },
      "source": [
        "## Gradient Descent Algorithm\n",
        "-  cost function을 w로 편미분한 공식을 통해 바로 특정 w 에서의 그라디언트를 구하는 방식"
      ]
    },
    {
      "cell_type": "markdown",
      "metadata": {
        "id": "e1fHGOxSxC7P"
      },
      "source": [
        "Cost의 W에 대한 편미분 = $\\frac{\\Delta cost}{\\Delta W} = \\frac{\\Delta ((Wx+b)-y)^2}{\\Delta W} = 2(H(x)-y)*x$ "
      ]
    },
    {
      "cell_type": "code",
      "metadata": {
        "id": "KGX1fb6nI0P3"
      },
      "source": [
        "def calculate_gradient(w,cost):\n",
        "\n",
        "    b = 1\n",
        "    h = H(w,b)\n",
        "    grad = 0\n",
        "\n",
        "    for i in range(len(X)):\n",
        "        grad += 2*(h.forward(X[i]) - Y[i])*X[i]\n",
        "    grad /= len(X)\n",
        "\n",
        "    pred_y = [h.forward(X[i]) for i in range(len(X))]\n",
        "    loss = cost(pred_y, Y)\n",
        "\n",
        "    return grad, loss\n",
        "\n",
        "\n",
        "    "
      ],
      "execution_count": null,
      "outputs": []
    },
    {
      "cell_type": "code",
      "metadata": {
        "colab": {
          "base_uri": "https://localhost:8080/"
        },
        "id": "NQDu2FrIJyPL",
        "outputId": "a76c3cbd-c1d7-4f16-c66f-7073769d6d06"
      },
      "source": [
        "w = 8\n",
        "learning_rate = 0.01 \n",
        "\n",
        "losses = []\n",
        "for i in range(len(X)):\n",
        "    grad, loss = calculate_gradient(w, cost)\n",
        "    losses.append(loss)\n",
        "\n",
        "    w = w-learning_rate*grad\n",
        "    print(f'grad: {grad} ------- W value: {w} ------- loss: {loss}')\n",
        "\n"
      ],
      "execution_count": null,
      "outputs": [
        {
          "output_type": "stream",
          "name": "stdout",
          "text": [
            "grad: 396.0 ------- W value: 4.04 ------- loss: 1376.0\n",
            "grad: 170.28000000000003 ------- W value: 2.3371999999999997 ------- loss: 254.7656\n",
            "grad: 73.22039999999997 ------- W value: 1.6049959999999999 ------- loss: 47.44935943999998\n",
            "grad: 31.484771999999992 ------- W value: 1.29014828 ------- loss: 9.116586560455996\n",
            "grad: 13.538451959999994 ------- W value: 1.1547637604 ------- loss: 2.0288568550283133\n",
            "grad: 5.821534342800004 ------- W value: 1.0965484169720001 ------- loss: 0.7183356324947356\n",
            "grad: 2.503259767404006 ------- W value: 1.0715158192979601 ------- loss: 0.47602025844827683\n",
            "grad: 1.076401699983731 ------- W value: 1.0607518022981228 ------- loss: 0.43121614578708634\n",
            "grad: 0.46285273099300106 ------- W value: 1.0561232749881928 ------- loss: 0.4229318653560322\n",
            "grad: 0.19902667432699062 ------- W value: 1.054133008244923 ------- loss: 0.4214001019043304\n"
          ]
        }
      ]
    },
    {
      "cell_type": "code",
      "metadata": {
        "id": "nPoT3mvJJxH2"
      },
      "source": [
        "w = 4\n",
        "lr = 0.001\n",
        "\n",
        "losses=[]\n",
        "for i in range(10):\n",
        "    grad, loss = calculate_gradient(w,cost)\n",
        "    losses.append(loss)\n",
        "\n",
        "    w -= lr*grad\n",
        "    print(f'grad: {grad} ------- W value: {w} ------- loss: {loss}')"
      ],
      "execution_count": null,
      "outputs": []
    },
    {
      "cell_type": "code",
      "metadata": {
        "colab": {
          "base_uri": "https://localhost:8080/"
        },
        "id": "yGxAbCdNv5ca",
        "outputId": "dc0c1a04-73ee-4601-e9ec-e7af0dee1638"
      },
      "source": [
        "def calculate_gradient(w,cost):\n",
        "    b = 1\n",
        "    \n",
        "    h = H(w,b)\n",
        "    grad = 0 # init\n",
        "\n",
        "    for i in range(len(X)):\n",
        "        grad += 2*(h.forward(X[i]) - Y[i]) * X[i]\n",
        "\n",
        "    grad = grad/len(X)\n",
        "\n",
        "    ## to get loss\n",
        "\n",
        "    pred_y = [h.forward(X[i]) for i in range(len(X))]\n",
        "    loss = cost(pred_y,Y)\n",
        "\n",
        "    return grad, loss\n",
        "\n",
        "\n",
        "w = 4\n",
        "lr = 0.001\n",
        "\n",
        "losses=[]\n",
        "for i in range(10):\n",
        "    grad, loss = calculate_gradient(w,cost)\n",
        "    losses.append(loss)\n",
        "\n",
        "    w -= lr*grad\n",
        "    print(f'grad: {grad} ------- W value: {w} ------- loss: {loss}')"
      ],
      "execution_count": null,
      "outputs": [
        {
          "output_type": "stream",
          "text": [
            "grad: 168.0 ------- W value: 3.832 ------- loss: 248.0\n",
            "grad: 158.42399999999998 ------- W value: 3.6735759999999997 ------- loss: 220.58038399999995\n",
            "grad: 149.39383199999997 ------- W value: 3.524182168 ------- loss: 196.19751789161592\n",
            "grad: 140.87838357599998 ------- W value: 3.3833037844239997 ------- loss: 174.51507858760164\n",
            "grad: 132.848315712168 ------- W value: 3.2504554687118317 ------- loss: 155.23399111894614\n",
            "grad: 125.27596171657441 ------- W value: 3.125179506995257 ------- loss: 138.08830336853174\n",
            "grad: 118.13523189872964 ------- W value: 3.0070442750965274 ------- loss: 122.84151768216346\n",
            "grad: 111.40152368050205 ------- W value: 2.8956427514160255 ------- loss: 109.28332875734615\n",
            "grad: 105.05163683071346 ------- W value: 2.790591114585312 ------- loss: 97.22672281414131\n",
            "grad: 99.06369353136279 ------- W value: 2.6915274210539493 ------- loss: 86.50539803575235\n"
          ],
          "name": "stdout"
        }
      ]
    },
    {
      "cell_type": "code",
      "metadata": {
        "colab": {
          "base_uri": "https://localhost:8080/",
          "height": 265
        },
        "id": "t4nib3Fhzg4j",
        "outputId": "9f1ae463-3604-4659-d161-9cfbc455b2cd"
      },
      "source": [
        "import matplotlib.pyplot as plt\n",
        "\n",
        "plt.plot(losses)\n",
        "plt.show()"
      ],
      "execution_count": null,
      "outputs": [
        {
          "output_type": "display_data",
          "data": {
            "image/png": "[encoded data removed]",
            "text/plain": [
              "<Figure size 432x288 with 1 Axes>"
            ]
          },
          "metadata": {
            "needs_background": "light"
          }
        }
      ]
    },
    {
      "cell_type": "markdown",
      "metadata": {
        "id": "55JjVcaF4T7T"
      },
      "source": [
        "## Simple Perceptron"
      ]
    },
    {
      "cell_type": "markdown",
      "metadata": {
        "id": "jzEKRj1V43aY"
      },
      "source": [
        "x1 = np.array([0,0,1,1]). \n",
        " \n",
        "x2 = np.array([0,1,0,1])\n",
        "\n",
        "y = np.array([1,1,1,0])"
      ]
    },
    {
      "cell_type": "code",
      "metadata": {
        "colab": {
          "base_uri": "https://localhost:8080/"
        },
        "id": "M7dQXkFW4Vf3",
        "outputId": "074ae2ce-b6e7-45ea-e399-4f5cacf8b33a"
      },
      "source": [
        "import numpy as np\n",
        "\n",
        "# 두입력값이 모두 1인 경우에만 1 출력. 나머지 0\n",
        "def And(x1,x2):\n",
        "    w1=0.5\n",
        "    w2=0.5\n",
        "    b =-0.8\n",
        "\n",
        "    result = x1*w1 + x2*w2 + b\n",
        "\n",
        "    if result <= 0:\n",
        "        return 0\n",
        "    else:\n",
        "        return 1\n",
        "\n",
        "## 아래의 w,b는 모델이 학습을 통해 찾은 어떤 값이라고 가정\n",
        "# 두 입력값이 모두 1인 경우에만 0 출력. 나머지 1\n",
        "def NAND(x1,x2):\n",
        "    w1 = -0.5\n",
        "    w2 = -0.5\n",
        "    b = 0.8\n",
        "\n",
        "    result = x1*w1 + x2*w2 + b\n",
        "\n",
        "    if result <= 0:\n",
        "        return 0\n",
        "    else:\n",
        "        return 1\n",
        "\n",
        "# 두 입력값이 모두 0인 경우에만 0출력. 나머지는 1\n",
        "def OR(x1,x2):\n",
        "    w1 = 0.6\n",
        "    w2 = 0.6\n",
        "    b = -0.5\n",
        "\n",
        "    result = x1*w1 + x2*w2 + b\n",
        "\n",
        "    if result <= 0:\n",
        "        return 0\n",
        "    else:\n",
        "        return 1\n",
        "\n",
        "def XOR(x1,x2):\n",
        "    w1 = 0.1\n",
        "    w2 = 0.2\n",
        "    b = -0.5\n",
        "\n",
        "    result = x1*w1 + x2*w2 + b\n",
        "\n",
        "    if result <= 0:\n",
        "        return 0\n",
        "    else:\n",
        "        return 1\n",
        "\n",
        "\n",
        "\n",
        "### Data\n",
        "x1 = np.array([0,0,1,1])\n",
        "x2 = np.array([0,1,0,1])\n",
        "y = np.array([0,0,0,1])\n",
        "\n",
        "### Run\n",
        "ands=[]\n",
        "nands = []\n",
        "ors = []\n",
        "xors=[]\n",
        "for i in range(len(x1)):\n",
        "    ands.append(And(x1[i],x2[i]))\n",
        "    nands.append(NAND(x1[i],x2[i]))\n",
        "    ors.append(OR(x1[i],x2[i]))\n",
        "    xors.append(XOR(x1[i],x2[i]))\n",
        "\n",
        "print('AND: ',ands)\n",
        "print('NAND: ',nands)\n",
        "print('OR: ',ors)\n",
        "print('XOR: ',xors)\n"
      ],
      "execution_count": null,
      "outputs": [
        {
          "output_type": "stream",
          "name": "stdout",
          "text": [
            "AND:  [0, 0, 0, 1]\n",
            "NAND:  [1, 1, 1, 0]\n",
            "OR:  [0, 1, 1, 1]\n",
            "XOR:  [0, 0, 0, 0]\n"
          ]
        }
      ]
    },
    {
      "cell_type": "markdown",
      "metadata": {
        "id": "vXkrtqPQFe-i"
      },
      "source": [
        "\n",
        "\n",
        "```\n",
        "# 코드로 형식 지정됨\n",
        "```\n",
        "\n",
        "### Multilayer Perceptron"
      ]
    },
    {
      "cell_type": "code",
      "metadata": {
        "colab": {
          "base_uri": "https://localhost:8080/"
        },
        "id": "qbn7F3BTFhxL",
        "outputId": "48a06762-37ce-4fe1-8748-c33bdf006d34"
      },
      "source": [
        "# 입력값 두 개가 서로 다른 값을 갖고 있을때에만 출력값이 1이 되고, 입력값 두 개가 서로 같은 값을 가지면 출력값이 0\n",
        "def XOR(x1,x2): #XOR\n",
        "    s1 = NAND(x1,x2)\n",
        "    s2 = OR(x1,x2)\n",
        "    y = And(s1,s2)\n",
        "    return y\n",
        "\n",
        "\n",
        "\n",
        "### Data\n",
        "x1 = np.array([0,0,1,1])\n",
        "x2 = np.array([0,1,0,1])\n",
        "y = np.array([0,0,0,1])\n",
        "\n",
        "### Run\n",
        "xors=[]\n",
        "for i in range(len(x1)):\n",
        "    xors.append(XOR(x1[i],x2[i]))\n",
        "\n",
        "print('XOR: ',xors)"
      ],
      "execution_count": null,
      "outputs": [
        {
          "output_type": "stream",
          "name": "stdout",
          "text": [
            "XOR:  [0, 1, 1, 0]\n"
          ]
        }
      ]
    },
    {
      "cell_type": "code",
      "metadata": {
        "colab": {
          "base_uri": "https://localhost:8080/"
        },
        "id": "z8AJ9wgPr7uU",
        "outputId": "196d200f-6df9-4b77-f84e-2ded053553c0"
      },
      "source": [
        "import numpy as np\n",
        "\n",
        "ll = -1*np.log(0.1)\n",
        "ll"
      ],
      "execution_count": null,
      "outputs": [
        {
          "output_type": "execute_result",
          "data": {
            "text/plain": [
              "2.3025850929940455"
            ]
          },
          "metadata": {},
          "execution_count": 2
        }
      ]
    }
  ]
}