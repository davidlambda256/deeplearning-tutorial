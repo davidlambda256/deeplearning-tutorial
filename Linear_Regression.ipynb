{
  "nbformat": 4,
  "nbformat_minor": 0,
  "metadata": {
    "colab": {
      "name": "Linear_Regression.ipynb",
      "provenance": [],
      "collapsed_sections": []
    },
    "kernelspec": {
      "name": "python3",
      "display_name": "Python 3"
    },
    "language_info": {
      "name": "python"
    }
  },
  "cells": [
    {
      "cell_type": "code",
      "metadata": {
        "id": "L_jaMdgo3SZG"
      },
      "source": [
        "import numpy as np\n",
        "import matplotlib.pyplot as plt\n",
        "\n",
        "np.random.seed(42)"
      ],
      "execution_count": null,
      "outputs": []
    },
    {
      "cell_type": "markdown",
      "metadata": {
        "id": "V3aOII4l3tNH"
      },
      "source": [
        "## Prepare Dataset"
      ]
    },
    {
      "cell_type": "code",
      "metadata": {
        "id": "yYquD4v23wtD"
      },
      "source": [
        "x = np.random.rand(100,1)\n",
        "y = 2*x + 1"
      ],
      "execution_count": null,
      "outputs": []
    },
    {
      "cell_type": "markdown",
      "metadata": {
        "id": "GFRHATSm4HPf"
      },
      "source": [
        "먼저, 인덱스를 섞기 위해 (Dataset 내의 data를 무작위로 뽑기 위해) 아래 같이 인덱스를 섞어 보자"
      ]
    },
    {
      "cell_type": "code",
      "metadata": {
        "colab": {
          "base_uri": "https://localhost:8080/"
        },
        "id": "rpZWW2fM30bN",
        "outputId": "f5314907-3fbd-4e0b-a83c-b1e77eee48b6"
      },
      "source": [
        "idx = np.arange(100)\n",
        "np.random.shuffle(idx)\n",
        "\n",
        "train_idx = idx[:80]\n",
        "val_idx = idx[80:]\n",
        "\n",
        "print(train_idx)\n",
        "print(val_idx)"
      ],
      "execution_count": null,
      "outputs": [
        {
          "output_type": "stream",
          "name": "stdout",
          "text": [
            "[60 28  9 12 61 94 46 79 25 43 65 77 78 58 76 48 89  5 51 42 92 44 62 84\n",
            " 75 57  4 93 14 27 82 98 50 33 55 26 90 97 66 29 87 21 80 52 16 73 86  7\n",
            " 72 74 20 13 54  3 69 67 40 85 34 70 83 64 45 63 17 24 37 35 71 99 53 23\n",
            " 19  2 96 18  8 31 36 68]\n",
            "[11 47 95  1 59 15  6 41 30 22 49 88 56 91 10  0 81 38 39 32]\n"
          ]
        }
      ]
    },
    {
      "cell_type": "code",
      "metadata": {
        "colab": {
          "base_uri": "https://localhost:8080/"
        },
        "id": "1Q6IFiPm4ZXp",
        "outputId": "b01cabd5-f63a-4c2d-a2b5-1b3ee46f7694"
      },
      "source": [
        "x_train, y_train = x[train_idx], y[train_idx]\n",
        "x_val, y_val = x[val_idx], y[val_idx]\n",
        "\n",
        "print(x_train.shape, y_train.shape)\n",
        "print(x_val.shape, y_val.shape)"
      ],
      "execution_count": null,
      "outputs": [
        {
          "output_type": "stream",
          "name": "stdout",
          "text": [
            "(80, 1) (80, 1)\n",
            "(20, 1) (20, 1)\n"
          ]
        }
      ]
    },
    {
      "cell_type": "code",
      "metadata": {
        "colab": {
          "base_uri": "https://localhost:8080/",
          "height": 265
        },
        "id": "8swec1JK4raK",
        "outputId": "629026fe-6d61-47df-9c58-002d1bee0b1e"
      },
      "source": [
        "# Plot  \n",
        "fig, ax = plt.subplots()  \n",
        "\n",
        "ax.scatter(x_train, y_train, color='C0', label='train', alpha=0.5)  \n",
        "ax.scatter(x_val, y_val, color = 'C1', label='validation', alpha=0.5)  \n",
        "ax.legend()  \n",
        "ax.grid(True)  \n",
        "fig.show()"
      ],
      "execution_count": null,
      "outputs": [
        {
          "output_type": "display_data",
          "data": {
            "image/png": "[encoded data removed]",
            "text/plain": [
              "<Figure size 432x288 with 1 Axes>"
            ]
          },
          "metadata": {
            "needs_background": "light"
          }
        }
      ]
    },
    {
      "cell_type": "markdown",
      "metadata": {
        "id": "eML4761X45PK"
      },
      "source": [
        "## Set Hyperparameter"
      ]
    },
    {
      "cell_type": "code",
      "metadata": {
        "id": "0xVmCNfH44zJ"
      },
      "source": [
        "LR = 1e-2\n",
        "EPOCHS = 100"
      ],
      "execution_count": 53,
      "outputs": []
    },
    {
      "cell_type": "markdown",
      "metadata": {
        "id": "1ctHQel65K57"
      },
      "source": [
        "## Modeling"
      ]
    },
    {
      "cell_type": "code",
      "metadata": {
        "id": "D5gMWt0t5MUi"
      },
      "source": [
        "class H():\n",
        "\n",
        "  def __init__(self,w,b):\n",
        "\n",
        "    self.W = w\n",
        "    self.b = b\n",
        "  \n",
        "  def forward(self,x):\n",
        "    \n",
        "    pred_y = self.W*x +self.b\n",
        "\n",
        "    return pred_y\n"
      ],
      "execution_count": 59,
      "outputs": []
    },
    {
      "cell_type": "code",
      "metadata": {
        "id": "aTG8pBB9_E4_"
      },
      "source": [
        "w = np.random.rand(80)\n",
        "b = np.random.rand(80)\n",
        "\n",
        "# hypothesis = H(w,b)\n",
        "# h = hypothesis.forward(x_train)\n",
        "# h"
      ],
      "execution_count": 60,
      "outputs": []
    },
    {
      "cell_type": "markdown",
      "metadata": {
        "id": "t5rdDsja5Ghv"
      },
      "source": [
        "## Training"
      ]
    },
    {
      "cell_type": "markdown",
      "metadata": {
        "id": "Ci_Lgex67o_8"
      },
      "source": [
        "$\\frac{\\Delta ((WX+b)-y)^2}{\\Delta W} = 2((WX+b)-y)X = 2(error)X$"
      ]
    },
    {
      "cell_type": "code",
      "metadata": {
        "colab": {
          "base_uri": "https://localhost:8080/"
        },
        "id": "hi-XEIt65Hqx",
        "outputId": "54d86f16-d9dd-4964-dce1-e77b5b5bf1b7"
      },
      "source": [
        "losses = []\n",
        "\n",
        "for epoch in range(EPOCHS):\n",
        "\n",
        "  hypothesis = H(w,b)\n",
        "  pred = hypothesis.forward(x_train)\n",
        "\n",
        "  error = (pred - y_train)\n",
        "  loss = (error**2).mean()\n",
        "\n",
        "  # get gradient\n",
        "  grad = (2*error*x_train).mean()\n",
        "\n",
        "  # update weights\n",
        "  w -= LR*grad\n",
        "  b -= LR*grad\n",
        "  \n",
        "  print(f'train loss: {round(loss,4)}')\n",
        "  losses.append(loss)\n"
      ],
      "execution_count": 61,
      "outputs": [
        {
          "output_type": "stream",
          "name": "stdout",
          "text": [
            "train loss: 1.7756\n",
            "train loss: 1.7214\n",
            "train loss: 1.6689\n",
            "train loss: 1.6182\n",
            "train loss: 1.569\n",
            "train loss: 1.5215\n",
            "train loss: 1.4755\n",
            "train loss: 1.431\n",
            "train loss: 1.3879\n",
            "train loss: 1.3462\n",
            "train loss: 1.3059\n",
            "train loss: 1.2668\n",
            "train loss: 1.2291\n",
            "train loss: 1.1926\n",
            "train loss: 1.1572\n",
            "train loss: 1.123\n",
            "train loss: 1.09\n",
            "train loss: 1.058\n",
            "train loss: 1.027\n",
            "train loss: 0.9971\n",
            "train loss: 0.9681\n",
            "train loss: 0.9401\n",
            "train loss: 0.913\n",
            "train loss: 0.8868\n",
            "train loss: 0.8614\n",
            "train loss: 0.8369\n",
            "train loss: 0.8131\n",
            "train loss: 0.7902\n",
            "train loss: 0.768\n",
            "train loss: 0.7465\n",
            "train loss: 0.7258\n",
            "train loss: 0.7057\n",
            "train loss: 0.6863\n",
            "train loss: 0.6675\n",
            "train loss: 0.6494\n",
            "train loss: 0.6318\n",
            "train loss: 0.6148\n",
            "train loss: 0.5984\n",
            "train loss: 0.5825\n",
            "train loss: 0.5672\n",
            "train loss: 0.5524\n",
            "train loss: 0.538\n",
            "train loss: 0.5242\n",
            "train loss: 0.5108\n",
            "train loss: 0.4978\n",
            "train loss: 0.4853\n",
            "train loss: 0.4732\n",
            "train loss: 0.4615\n",
            "train loss: 0.4502\n",
            "train loss: 0.4392\n",
            "train loss: 0.4287\n",
            "train loss: 0.4185\n",
            "train loss: 0.4086\n",
            "train loss: 0.3991\n",
            "train loss: 0.3899\n",
            "train loss: 0.381\n",
            "train loss: 0.3724\n",
            "train loss: 0.3641\n",
            "train loss: 0.356\n",
            "train loss: 0.3483\n",
            "train loss: 0.3408\n",
            "train loss: 0.3335\n",
            "train loss: 0.3266\n",
            "train loss: 0.3198\n",
            "train loss: 0.3133\n",
            "train loss: 0.307\n",
            "train loss: 0.3009\n",
            "train loss: 0.295\n",
            "train loss: 0.2894\n",
            "train loss: 0.2839\n",
            "train loss: 0.2786\n",
            "train loss: 0.2735\n",
            "train loss: 0.2686\n",
            "train loss: 0.2638\n",
            "train loss: 0.2593\n",
            "train loss: 0.2548\n",
            "train loss: 0.2506\n",
            "train loss: 0.2464\n",
            "train loss: 0.2425\n",
            "train loss: 0.2386\n",
            "train loss: 0.2349\n",
            "train loss: 0.2313\n",
            "train loss: 0.2279\n",
            "train loss: 0.2246\n",
            "train loss: 0.2214\n",
            "train loss: 0.2183\n",
            "train loss: 0.2153\n",
            "train loss: 0.2124\n",
            "train loss: 0.2097\n",
            "train loss: 0.207\n",
            "train loss: 0.2044\n",
            "train loss: 0.2019\n",
            "train loss: 0.1995\n",
            "train loss: 0.1972\n",
            "train loss: 0.195\n",
            "train loss: 0.1929\n",
            "train loss: 0.1908\n",
            "train loss: 0.1888\n",
            "train loss: 0.1869\n",
            "train loss: 0.1851\n"
          ]
        }
      ]
    },
    {
      "cell_type": "code",
      "metadata": {
        "colab": {
          "base_uri": "https://localhost:8080/",
          "height": 265
        },
        "id": "-rdBoabAAF16",
        "outputId": "5baaf074-6f0a-4505-c48e-5f398d428bd1"
      },
      "source": [
        "plt.plot(losses)\n",
        "plt.show()"
      ],
      "execution_count": 62,
      "outputs": [
        {
          "output_type": "display_data",
          "data": {
            "image/png": "[encoded data removed]",
            "text/plain": [
              "<Figure size 432x288 with 1 Axes>"
            ]
          },
          "metadata": {
            "needs_background": "light"
          }
        }
      ]
    },
    {
      "cell_type": "markdown",
      "metadata": {
        "id": "rhtvd57AALoB"
      },
      "source": [
        "## Check parameter"
      ]
    },
    {
      "cell_type": "markdown",
      "metadata": {
        "id": "LwbjmP2TATgI"
      },
      "source": [
        "우리가 학습시킨 모델의 파라미터(W,b)는 아래와 같다. 나중에 파이토치/텐서플로우에서 학습한 모델을 저장한다는 것은 아래 같은 학습된 파라미터의 값을 저장하는 것으로 간주될 수 있다."
      ]
    },
    {
      "cell_type": "code",
      "metadata": {
        "colab": {
          "base_uri": "https://localhost:8080/"
        },
        "id": "mYh16RniAOyu",
        "outputId": "ce3dcf37-9036-41c7-bc4a-5cbfbeefe071"
      },
      "source": [
        "print(w)\n",
        "print(b)"
      ],
      "execution_count": 64,
      "outputs": [
        {
          "output_type": "stream",
          "name": "stdout",
          "text": [
            "[1.58589927 1.49387295 1.48819795 1.56205933 1.47830009 1.34349642\n",
            " 0.84852098 0.74980228 1.63812395 1.33392642 1.51381339 1.19879845\n",
            " 0.83458429 0.84246189 1.40284139 1.147582   0.91780083 1.20887065\n",
            " 0.78148504 1.2992475  0.98626951 1.5148352  1.02763806 1.17249625\n",
            " 0.72889664 0.78972299 1.10976966 1.19721494 1.31729665 1.00893868\n",
            " 1.41225799 1.5773985  1.49712709 0.75689493 1.19778305 0.82220628\n",
            " 0.95932112 1.70393869 0.85977164 1.21616425 1.33543184 1.41974107\n",
            " 1.27692478 0.72704695 1.04373741 1.23498774 0.8051426  1.06790303\n",
            " 0.75047921 0.7958546  1.11419938 0.84999185 1.28481695 1.40674107\n",
            " 1.5178628  0.91742635 0.88475868 0.82184394 1.35370635 1.42375183\n",
            " 0.74886225 1.65348835 0.76924738 1.25857244 1.42633662 1.58824522\n",
            " 1.43136303 1.51900418 1.05672629 1.53210121 0.79739095 1.61209276\n",
            " 1.26486848 1.53457387 1.16959439 1.3608538  1.24367876 1.44886562\n",
            " 0.79890608 0.77762818]\n",
            "[0.96437933 0.87682078 1.58905967 0.93649009 1.69314136 1.05417189\n",
            " 0.89939402 1.50697461 1.37598388 1.21547182 1.27263965 1.43647788\n",
            " 0.94573084 1.71361002 1.69206926 1.36760179 0.91681855 1.39750434\n",
            " 0.78947451 0.7479286  0.97495899 1.17989906 1.58554861 1.44444517\n",
            " 1.45998262 1.14276944 1.06321109 1.08831486 1.70492566 0.75738529\n",
            " 1.5843076  1.29595151 1.15589152 1.44253376 1.20394504 1.59069934\n",
            " 1.61797796 1.13899703 0.9941039  1.30962643 1.62963945 0.92793829\n",
            " 1.34024268 1.34883632 1.45038912 0.84884379 1.43310107 1.62630862\n",
            " 0.89695921 0.95481943 1.68867119 0.89825305 1.57166119 1.20955396\n",
            " 0.96450718 1.588026   1.16258136 1.23209345 1.07650947 1.31022695\n",
            " 0.88079997 1.10835764 1.68668842 0.97540953 1.37401277 1.04246616\n",
            " 1.49074923 0.84814976 1.68709715 1.17106564 0.95332656 0.79077285\n",
            " 0.88703401 1.23705005 1.05427928 1.54615947 1.14816362 0.96599037\n",
            " 1.33442109 1.42405332]\n"
          ]
        }
      ]
    },
    {
      "cell_type": "markdown",
      "metadata": {
        "id": "pcBapDyvAi5A"
      },
      "source": [
        "## Evaluate"
      ]
    },
    {
      "cell_type": "code",
      "metadata": {
        "colab": {
          "base_uri": "https://localhost:8080/"
        },
        "id": "IlY8NDqNAlHh",
        "outputId": "28d6c79d-a718-4694-e23a-9cac7c372394"
      },
      "source": [
        "hypothesis = H(w,b)\n",
        "pred = hypothesis.forward(x_val)\n",
        "error = (pred - y_val)\n",
        "loss = (error**2).mean()\n",
        " \n",
        "\n",
        "print(f'validation loss: {loss}')"
      ],
      "execution_count": 71,
      "outputs": [
        {
          "output_type": "stream",
          "name": "stdout",
          "text": [
            "validation loss: 0.17320161780967147\n"
          ]
        }
      ]
    }
  ]
}